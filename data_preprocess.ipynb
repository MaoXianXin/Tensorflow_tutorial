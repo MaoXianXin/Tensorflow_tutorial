{
 "cells": [
  {
   "cell_type": "code",
   "execution_count": 1,
   "metadata": {
    "collapsed": true
   },
   "outputs": [],
   "source": [
    "import pandas as pd"
   ]
  },
  {
   "cell_type": "code",
   "execution_count": 2,
   "outputs": [
    {
     "name": "stdout",
     "output_type": "stream",
     "text": [
      "510579\n"
     ]
    }
   ],
   "source": [
    "projects = pd.read_csv('./notificaitons.csv', usecols=['user_id', 'project_name'])\n",
    "print(len(projects))\n",
    "\n",
    "\n",
    "movie_titles = projects['project_name']\n",
    "user_ids = projects['user_id']"
   ],
   "metadata": {
    "collapsed": false,
    "pycharm": {
     "name": "#%%\n"
    }
   }
  },
  {
   "cell_type": "code",
   "execution_count": 3,
   "outputs": [],
   "source": [
    "movie_titles = list(movie_titles)\n",
    "user_ids = list(user_ids)"
   ],
   "metadata": {
    "collapsed": false,
    "pycharm": {
     "name": "#%%\n"
    }
   }
  },
  {
   "cell_type": "code",
   "execution_count": 4,
   "outputs": [],
   "source": [
    "from collections import Counter\n",
    "\n",
    "user_ids_count = Counter(user_ids)"
   ],
   "metadata": {
    "collapsed": false,
    "pycharm": {
     "name": "#%%\n"
    }
   }
  },
  {
   "cell_type": "code",
   "execution_count": 5,
   "outputs": [],
   "source": [
    "user_ids_count = (sorted(user_ids_count.items(), key=lambda item: item[1], reverse=True))"
   ],
   "metadata": {
    "collapsed": false,
    "pycharm": {
     "name": "#%%\n"
    }
   }
  },
  {
   "cell_type": "code",
   "execution_count": 6,
   "outputs": [
    {
     "name": "stdout",
     "output_type": "stream",
     "text": [
      "12691\n"
     ]
    }
   ],
   "source": [
    "needed_user_id = []\n",
    "project_sum = 0\n",
    "for index, item in enumerate(user_ids_count):\n",
    "    needed_user_id.append(item[0])\n",
    "    project_sum += item[1]\n",
    "    if item[1] < 5:\n",
    "        print(index)\n",
    "        break"
   ],
   "metadata": {
    "collapsed": false,
    "pycharm": {
     "name": "#%%\n"
    }
   }
  },
  {
   "cell_type": "code",
   "execution_count": 7,
   "outputs": [],
   "source": [
    "projects = projects.loc[projects['user_id'].isin(needed_user_id)]"
   ],
   "metadata": {
    "collapsed": false,
    "pycharm": {
     "name": "#%%\n"
    }
   }
  },
  {
   "cell_type": "code",
   "execution_count": 8,
   "outputs": [
    {
     "data": {
      "text/plain": "             user_id         project_name\n0    weixin_42596567             farfetch\n1    weixin_42596567  dash-salesforce-crm\n2    weixin_42596567      spring-mvc-mini\n3    weixin_42596567              website\n5            gmszone                chapi\n..               ...                  ...\n175      itlijinpeng                 test\n180  weixin_43883215     MatchingSoftware\n181  weixin_43883215                Marry\n182  weixin_43883215              Mahjong\n183  weixin_43883215              Krebons\n\n[100 rows x 2 columns]",
      "text/html": "<div>\n<style scoped>\n    .dataframe tbody tr th:only-of-type {\n        vertical-align: middle;\n    }\n\n    .dataframe tbody tr th {\n        vertical-align: top;\n    }\n\n    .dataframe thead th {\n        text-align: right;\n    }\n</style>\n<table border=\"1\" class=\"dataframe\">\n  <thead>\n    <tr style=\"text-align: right;\">\n      <th></th>\n      <th>user_id</th>\n      <th>project_name</th>\n    </tr>\n  </thead>\n  <tbody>\n    <tr>\n      <th>0</th>\n      <td>weixin_42596567</td>\n      <td>farfetch</td>\n    </tr>\n    <tr>\n      <th>1</th>\n      <td>weixin_42596567</td>\n      <td>dash-salesforce-crm</td>\n    </tr>\n    <tr>\n      <th>2</th>\n      <td>weixin_42596567</td>\n      <td>spring-mvc-mini</td>\n    </tr>\n    <tr>\n      <th>3</th>\n      <td>weixin_42596567</td>\n      <td>website</td>\n    </tr>\n    <tr>\n      <th>5</th>\n      <td>gmszone</td>\n      <td>chapi</td>\n    </tr>\n    <tr>\n      <th>...</th>\n      <td>...</td>\n      <td>...</td>\n    </tr>\n    <tr>\n      <th>175</th>\n      <td>itlijinpeng</td>\n      <td>test</td>\n    </tr>\n    <tr>\n      <th>180</th>\n      <td>weixin_43883215</td>\n      <td>MatchingSoftware</td>\n    </tr>\n    <tr>\n      <th>181</th>\n      <td>weixin_43883215</td>\n      <td>Marry</td>\n    </tr>\n    <tr>\n      <th>182</th>\n      <td>weixin_43883215</td>\n      <td>Mahjong</td>\n    </tr>\n    <tr>\n      <th>183</th>\n      <td>weixin_43883215</td>\n      <td>Krebons</td>\n    </tr>\n  </tbody>\n</table>\n<p>100 rows × 2 columns</p>\n</div>"
     },
     "execution_count": 8,
     "metadata": {},
     "output_type": "execute_result"
    }
   ],
   "source": [
    "projects.head(100)"
   ],
   "metadata": {
    "collapsed": false,
    "pycharm": {
     "name": "#%%\n"
    }
   }
  },
  {
   "cell_type": "code",
   "execution_count": 9,
   "outputs": [],
   "source": [
    "projects.to_csv('./test.csv', index=False)"
   ],
   "metadata": {
    "collapsed": false,
    "pycharm": {
     "name": "#%%\n"
    }
   }
  },
  {
   "cell_type": "code",
   "execution_count": 9,
   "outputs": [],
   "source": [],
   "metadata": {
    "collapsed": false,
    "pycharm": {
     "name": "#%%\n"
    }
   }
  },
  {
   "cell_type": "code",
   "execution_count": 9,
   "outputs": [],
   "source": [],
   "metadata": {
    "collapsed": false,
    "pycharm": {
     "name": "#%%\n"
    }
   }
  }
 ],
 "metadata": {
  "kernelspec": {
   "display_name": "Python 3",
   "language": "python",
   "name": "python3"
  },
  "language_info": {
   "codemirror_mode": {
    "name": "ipython",
    "version": 2
   },
   "file_extension": ".py",
   "mimetype": "text/x-python",
   "name": "python",
   "nbconvert_exporter": "python",
   "pygments_lexer": "ipython2",
   "version": "2.7.6"
  }
 },
 "nbformat": 4,
 "nbformat_minor": 0
}